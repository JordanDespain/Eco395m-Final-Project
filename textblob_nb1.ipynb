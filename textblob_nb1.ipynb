{
 "cells": [
  {
   "cell_type": "code",
   "execution_count": null,
   "metadata": {},
   "outputs": [],
   "source": [
    "# Textblob \n",
    "# Using Texblob & Naive Bayes to build a sentiment analyzer"
   ]
  },
  {
   "cell_type": "code",
   "execution_count": 35,
   "metadata": {},
   "outputs": [],
   "source": [
    "import os\n",
    "import pandas as pd\n",
    "import numpy as np\n",
    "import nltk\n",
    "from nltk.corpus import stopwords\n",
    "from textblob import Word\n",
    "from textblob import TextBlob\n",
    "from wordcloud import WordCloud\n",
    "import matplotlib.pyplot as plt\n",
    "from sklearn.model_selection import train_test_split\n",
    "import nltk"
   ]
  },
  {
   "cell_type": "code",
   "execution_count": 4,
   "metadata": {},
   "outputs": [],
   "source": [
    "PATH_IN = os.path.join('artifacts', 'Cleaned_reviews.csv')\n",
    "df = pd.read_csv(PATH_IN)\n"
   ]
  },
  {
   "cell_type": "code",
   "execution_count": 5,
   "metadata": {},
   "outputs": [],
   "source": [
    "#Work on converting rating to binary classification\n",
    "\n",
    "temp_array = list(yelp.polarity)\n",
    "\n",
    "for i in range (len(temp_array)):\n",
    "    if temp_array[i] < 0:\n",
    "        yelp.loc[i, 'polarity']= 0\n",
    "    elif temp_array[i] >= 0:\n",
    "        yelp.loc[i, 'polarity']= 1"
   ]
  },
  {
   "cell_type": "code",
   "execution_count": 6,
   "metadata": {},
   "outputs": [
    {
     "data": {
      "text/html": [
       "<div>\n",
       "<style scoped>\n",
       "    .dataframe tbody tr th:only-of-type {\n",
       "        vertical-align: middle;\n",
       "    }\n",
       "\n",
       "    .dataframe tbody tr th {\n",
       "        vertical-align: top;\n",
       "    }\n",
       "\n",
       "    .dataframe thead th {\n",
       "        text-align: right;\n",
       "    }\n",
       "</style>\n",
       "<table border=\"1\" class=\"dataframe\">\n",
       "  <thead>\n",
       "    <tr style=\"text-align: right;\">\n",
       "      <th></th>\n",
       "      <th>restaurant_name</th>\n",
       "      <th>number</th>\n",
       "      <th>cleaned_review</th>\n",
       "      <th>polarity</th>\n",
       "      <th>subjectivity</th>\n",
       "    </tr>\n",
       "  </thead>\n",
       "  <tbody>\n",
       "    <tr>\n",
       "      <th>0</th>\n",
       "      <td>Granny's Tacos</td>\n",
       "      <td>1</td>\n",
       "      <td>absolutely love granny taco always recommend g...</td>\n",
       "      <td>1.0</td>\n",
       "      <td>0.650000</td>\n",
       "    </tr>\n",
       "    <tr>\n",
       "      <th>1</th>\n",
       "      <td>Granny's Tacos</td>\n",
       "      <td>2</td>\n",
       "      <td>stopped since area morning grab taco lunch bus...</td>\n",
       "      <td>1.0</td>\n",
       "      <td>0.499479</td>\n",
       "    </tr>\n",
       "    <tr>\n",
       "      <th>2</th>\n",
       "      <td>Granny's Tacos</td>\n",
       "      <td>3</td>\n",
       "      <td>oh gosh best breakfast taco ever come must una...</td>\n",
       "      <td>1.0</td>\n",
       "      <td>0.542222</td>\n",
       "    </tr>\n",
       "    <tr>\n",
       "      <th>3</th>\n",
       "      <td>Granny's Tacos</td>\n",
       "      <td>4</td>\n",
       "      <td>lightly may best taco austin long weekend beli...</td>\n",
       "      <td>1.0</td>\n",
       "      <td>0.678571</td>\n",
       "    </tr>\n",
       "    <tr>\n",
       "      <th>4</th>\n",
       "      <td>Granny's Tacos</td>\n",
       "      <td>5</td>\n",
       "      <td>best taco austin food truck outdoor seating ju...</td>\n",
       "      <td>1.0</td>\n",
       "      <td>0.509524</td>\n",
       "    </tr>\n",
       "  </tbody>\n",
       "</table>\n",
       "</div>"
      ],
      "text/plain": [
       "  restaurant_name  number                                     cleaned_review  \\\n",
       "0  Granny's Tacos       1  absolutely love granny taco always recommend g...   \n",
       "1  Granny's Tacos       2  stopped since area morning grab taco lunch bus...   \n",
       "2  Granny's Tacos       3  oh gosh best breakfast taco ever come must una...   \n",
       "3  Granny's Tacos       4  lightly may best taco austin long weekend beli...   \n",
       "4  Granny's Tacos       5  best taco austin food truck outdoor seating ju...   \n",
       "\n",
       "   polarity  subjectivity  \n",
       "0       1.0      0.650000  \n",
       "1       1.0      0.499479  \n",
       "2       1.0      0.542222  \n",
       "3       1.0      0.678571  \n",
       "4       1.0      0.509524  "
      ]
     },
     "execution_count": 6,
     "metadata": {},
     "output_type": "execute_result"
    }
   ],
   "source": [
    "yelp.head()"
   ]
  },
  {
   "cell_type": "code",
   "execution_count": 10,
   "metadata": {},
   "outputs": [
    {
     "name": "stdout",
     "output_type": "stream",
     "text": [
      "50    boosting review new location need known right ...\n",
      "2     oh gosh best breakfast taco ever come must una...\n",
      "17    run walk granny taco 1 whole adventure first s...\n",
      "85    really looking forward mr natural everyone say...\n",
      "5     location significantly better one like stand 2...\n",
      "                            ...                        \n",
      "83    fast food style sit service evening came lady ...\n",
      "67    natural fall love mr natural really spinach mu...\n",
      "25    good size taco tasty bit expensive lot truck g...\n",
      "68    ordered fish wrap fresh tasted like fried chic...\n",
      "47    money granny rank 1 love breakfast taco al pas...\n",
      "Name: cleaned_review, Length: 80, dtype: object\n"
     ]
    }
   ],
   "source": [
    "# Train-Test Split\n",
    "\n",
    "# new pure text based dataset\n",
    "\n",
    "X = yelp.cleaned_review\n",
    "y = yelp.polarity\n",
    "indices = yelp.index\n",
    "\n",
    "# same split, size and random state\n",
    "X_train, X_test, y_train, y_test, i_train, i_test = train_test_split(X.iloc[:100], y.iloc[:100], indices[:100], train_size = 0.8, random_state = 7)\n",
    "print(X_train)"
   ]
  },
  {
   "cell_type": "code",
   "execution_count": 32,
   "metadata": {},
   "outputs": [],
   "source": [
    "sample = pd.DataFrame([X_train, y_train]).transpose()\n",
    "sample['desig'] = sample.polarity.apply(lambda x: 'pos' if x == 1 else 'neg')\n",
    "# sample['clean_review'].to_list() + \n",
    "input_train = []\n",
    "for text, d in list(zip(sample['cleaned_review'], sample['desig'])): \n",
    "    input_train.append((text, d))\n",
    "# print(input_train)\n",
    " "
   ]
  },
  {
   "cell_type": "code",
   "execution_count": 41,
   "metadata": {},
   "outputs": [],
   "source": [
    "sample2 = pd.DataFrame([X_test, y_test]).transpose()\n",
    "sample2['desig'] = sample2.polarity.apply(lambda x: 'pos' if x == 1 else 'neg')\n",
    "\n",
    "input_test = []\n",
    "for text, d in list(zip(sample['cleaned_review'], sample['desig'])): \n",
    "    input_test.append((text, d))"
   ]
  },
  {
   "cell_type": "code",
   "execution_count": 37,
   "metadata": {},
   "outputs": [
    {
     "name": "stderr",
     "output_type": "stream",
     "text": [
      "[nltk_data] Error loading punkt: <urlopen error [SSL:\n",
      "[nltk_data]     CERTIFICATE_VERIFY_FAILED] certificate verify failed:\n",
      "[nltk_data]     unable to get local issuer certificate (_ssl.c:997)>\n"
     ]
    },
    {
     "data": {
      "text/plain": [
       "False"
      ]
     },
     "execution_count": 37,
     "metadata": {},
     "output_type": "execute_result"
    }
   ],
   "source": [
    "# NaiveBayes using Textblob\n",
    "nltk.download('punkt')"
   ]
  },
  {
   "cell_type": "code",
   "execution_count": 38,
   "metadata": {},
   "outputs": [],
   "source": [
    "from textblob.classifiers import NaiveBayesClassifier\n",
    "cl = NaiveBayesClassifier(input_train)"
   ]
  },
  {
   "cell_type": "code",
   "execution_count": 60,
   "metadata": {},
   "outputs": [
    {
     "data": {
      "text/plain": [
       "0.95"
      ]
     },
     "execution_count": 60,
     "metadata": {},
     "output_type": "execute_result"
    }
   ],
   "source": [
    "predicted = []\n",
    "actual = []\n",
    "for sent, classification in input_test: \n",
    "    predicted.append(cl.classify(sent))\n",
    "    actual.append(classification)\n",
    "comparison_df = pd.DataFrame([actual, predicted]).transpose()\n",
    "comparison_df.columns = ['Actual', 'Predicted']\n",
    "match = []\n",
    "for a, p in zip(comparison_df['Actual'], comparison_df['Predicted']): \n",
    "    if a == p: \n",
    "        match.append(1)\n",
    "    else: \n",
    "        match.append(0)\n",
    "sum(match) / len(match)"
   ]
  },
  {
   "cell_type": "code",
   "execution_count": 50,
   "metadata": {},
   "outputs": [
    {
     "data": {
      "text/plain": [
       "'pos'"
      ]
     },
     "execution_count": 50,
     "metadata": {},
     "output_type": "execute_result"
    }
   ],
   "source": [
    "for i in range(len(input_test)): \n",
    "    print(input_test[i])\n",
    "cl.classify('boosting review new location need known right favorite taco austin al pastor keep simple')"
   ]
  }
 ],
 "metadata": {
  "kernelspec": {
   "display_name": "Python 3.10.7 64-bit",
   "language": "python",
   "name": "python3"
  },
  "language_info": {
   "codemirror_mode": {
    "name": "ipython",
    "version": 3
   },
   "file_extension": ".py",
   "mimetype": "text/x-python",
   "name": "python",
   "nbconvert_exporter": "python",
   "pygments_lexer": "ipython3",
   "version": "3.10.7"
  },
  "orig_nbformat": 4,
  "vscode": {
   "interpreter": {
    "hash": "aee8b7b246df8f9039afb4144a1f6fd8d2ca17a180786b69acc140d282b71a49"
   }
  }
 },
 "nbformat": 4,
 "nbformat_minor": 2
}
