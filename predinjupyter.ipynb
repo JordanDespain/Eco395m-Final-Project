{
 "cells": [
  {
   "cell_type": "code",
   "execution_count": null,
   "metadata": {},
   "outputs": [],
   "source": [
    "## All Predictive Models \n",
    "\"\"\"Models\n",
    "# 1. Naïve Bayes: Count Vectorizer \n",
    "# 2. Naïve Bayes: TF IDF \n",
    "# 3. Gradient Boosted Classifier: Count Vectorizer \n",
    "# 4. Gradient Boosted Classifier: TF IDF\"\"\""
   ]
  },
  {
   "cell_type": "code",
   "execution_count": 1,
   "metadata": {},
   "outputs": [],
   "source": [
    "\"\"\"Import Packages\"\"\"\n",
    "import pandas as pd\n",
    "import os\n",
    "import pickle\n",
    "import sklearn\n",
    "import numpy as np\n",
    "import matplotlib as mpl\n",
    "import matplotlib.pyplot as plt\n",
    "import seaborn as sns\n",
    "import seaborn.objects as so\n",
    "from sklearn.model_selection import train_test_split\n",
    "from sklearn.feature_extraction.text import CountVectorizer\n",
    "from sklearn.model_selection import GridSearchCV\n",
    "from sklearn.naive_bayes import MultinomialNB\n",
    "from sklearn.pipeline import Pipeline\n",
    "from sklearn.feature_extraction.text import TfidfVectorizer\n",
    "from sklearn.naive_bayes import MultinomialNB\n",
    "from sklearn.metrics import f1_score\n",
    "from sklearn.feature_extraction.text import TfidfVectorizer\n",
    "from sklearn.naive_bayes import MultinomialNB\n",
    "from sklearn.feature_extraction.text import TfidfVectorizer\n",
    "from sklearn.ensemble import GradientBoostingClassifier\n",
    "from sklearn.metrics import confusion_matrix"
   ]
  },
  {
   "cell_type": "code",
   "execution_count": 2,
   "metadata": {},
   "outputs": [],
   "source": [
    "\"\"\"Import the Dataset\"\"\"\n",
    "#df = pd.read_csv(r'/Users/rajsitee/Downloads/Eco395m-Final-Project-jordan/artifacts/mexican_reviews.csv')\n",
    "\n",
    "PATH_IN = os.path.join('artifacts', 'mexican_reviews.csv')\n",
    "\n",
    "df = pd.read_csv(PATH_IN)"
   ]
  },
  {
   "cell_type": "code",
   "execution_count": 3,
   "metadata": {},
   "outputs": [],
   "source": [
    "\"\"\"Drop rows with no ratings. \"\"\"\n",
    "yelp_d = df[df.rating != 'no rating']"
   ]
  },
  {
   "cell_type": "code",
   "execution_count": 5,
   "metadata": {},
   "outputs": [
    {
     "name": "stderr",
     "output_type": "stream",
     "text": [
      "/var/folders/gs/rb1gz2h54pg2272k_2627jkw0000gn/T/ipykernel_2066/1479080751.py:17: SettingWithCopyWarning: \n",
      "A value is trying to be set on a copy of a slice from a DataFrame.\n",
      "Try using .loc[row_indexer,col_indexer] = value instead\n",
      "\n",
      "See the caveats in the documentation: https://pandas.pydata.org/pandas-docs/stable/user_guide/indexing.html#returning-a-view-versus-a-copy\n",
      "  yelp_d['rating_binary'] = yelp_d.apply(star_rating,axis = 1)\n"
     ]
    }
   ],
   "source": [
    "\"\"\"One-hot-encoding. \n",
    "For all ratings <= 3, rating_binary = 0. For all ratings >= 4, rating_binary = 1. \"\"\"\n",
    "def star_rating(x):\n",
    "\n",
    "    if x.rating == '3 star rating':\n",
    "        return 0\n",
    "    elif x.rating == '2 star rating':\n",
    "        return 0\n",
    "    elif x.rating == '1 star rating':\n",
    "        return 0\n",
    "    elif x.rating == '4 star rating':\n",
    "        return 1\n",
    "    elif x.rating == '5 star rating':\n",
    "        return 1\n",
    "    else:\n",
    "        return 0\n",
    "yelp_d['rating_binary'] = yelp_d.apply(star_rating,axis = 1)"
   ]
  },
  {
   "cell_type": "code",
   "execution_count": 6,
   "metadata": {},
   "outputs": [],
   "source": [
    "\"\"\"Create two new dataframes to hold all the positive and negative samples. We do this because the positive samples are\n",
    "much higher than the nehative samples. So we randomly sample the no. of positive reviews to match the no. of negative reviews. \n",
    "We then create a new dataframe to hold these 2 dfs (using concatenate).\"\"\"\n",
    "df_positive = yelp_d[yelp_d['rating_binary'] == 1]\n",
    "df_positive_sample = df_positive.sample(n=21386)\n",
    "\n",
    "df_negative = yelp_d[yelp_d[\"rating_binary\"] == 0]\n",
    "df_negative_sample = df_negative.sample(n=21386)\n",
    "\n",
    "yelp_data = pd.concat([df_positive_sample, df_negative_sample], axis=0)\n"
   ]
  },
  {
   "cell_type": "code",
   "execution_count": 7,
   "metadata": {},
   "outputs": [
    {
     "name": "stdout",
     "output_type": "stream",
     "text": [
      "21938    Meh. Get the suadero and carnitas. The other m...\n",
      "50539    I just bought a steak and egg taco and the put...\n",
      "44496    Tacorrido is the best for tacos on the run at ...\n",
      "34100    Really enjoyed the food and drinks here on my ...\n",
      "10605    Ok, so I must admit I'm not a huge proponent o...\n",
      "                               ...                        \n",
      "34508    So this place seemed like it was going to have...\n",
      "4393     There's two one-way roads between California a...\n",
      "63518    I have ordered here several times, it is alway...\n",
      "67293    placed an online order and prepaid. when i get...\n",
      "55287    Food is REALLY good.  The Mole is really good....\n",
      "Name: review, Length: 34217, dtype: object\n"
     ]
    }
   ],
   "source": [
    "\"\"\"Train-test split + random state\"\"\"   \n",
    "X = yelp_data.review\n",
    "y = yelp_data.rating_binary\n",
    "indices = yelp_data.index\n",
    "\n",
    "X_train, X_test, y_train, y_test, i_train, i_test = train_test_split(X, y, indices, train_size = 0.8, random_state = 7)\n",
    "print(X_train)\n"
   ]
  },
  {
   "cell_type": "code",
   "execution_count": 8,
   "metadata": {},
   "outputs": [],
   "source": [
    "## Naive Bayes Count Vectorizer"
   ]
  },
  {
   "cell_type": "code",
   "execution_count": 9,
   "metadata": {},
   "outputs": [
    {
     "data": {
      "text/plain": [
       "{'nb__alpha': 1, 'vec__min_df': 1}"
      ]
     },
     "execution_count": 9,
     "metadata": {},
     "output_type": "execute_result"
    }
   ],
   "source": [
    "\"\"\"Model Validation\"\"\"\n",
    "steps = [('vec', CountVectorizer(stop_words = 'english', ngram_range = (1, 2))), ('nb', MultinomialNB())] \n",
    "pipeline = Pipeline(steps) \n",
    "parameters = {'vec__min_df':[0.01, 0.1, 1, 10, 1000], 'nb__alpha':[0.01, 0.1, 1, 10, 1000]}\n",
    "\n",
    "def new_func(pipeline, parameters):\n",
    "    clf = GridSearchCV(pipeline, parameters, cv = 10, scoring=\"accuracy\")\n",
    "    return clf\n",
    "\n",
    "clf = new_func(pipeline, parameters) \n",
    "clf.fit(X_train, y_train)\n",
    "\n",
    "clf.best_params_"
   ]
  },
  {
   "cell_type": "code",
   "execution_count": 10,
   "metadata": {},
   "outputs": [],
   "source": [
    "\"\"\"Save the file into an sav\"\"\"\n",
    "filename = 'nb_cv.sav'\n",
    "pickle.dump(clf, open(filename, 'wb'))\n",
    "\n",
    "\"\"\"Load the model file\"\"\"\n",
    "filename = 'nb_cv.sav'\n",
    "clf = pickle.load(open(filename, 'rb'))"
   ]
  },
  {
   "cell_type": "code",
   "execution_count": 11,
   "metadata": {},
   "outputs": [
    {
     "name": "stdout",
     "output_type": "stream",
     "text": [
      "Accuracy on test data:  0.8351841028638223\n",
      "F1 Score (macro):  0.8347608023042462\n",
      "F1 Score (micro):  0.8351841028638223\n",
      "F1 Score (weighted):  0.8348849574337293\n"
     ]
    }
   ],
   "source": [
    "\"\"\"Results\"\"\"\n",
    "results = clf.predict(X_test)\n",
    "\n",
    "\"\"\"Test the Accuracy & the F1 Score of the Model\"\"\"\n",
    "test_accuracy = clf.score(X_test, y_test)\n",
    "probs = clf.predict_proba(X_test)[:, 1]\n",
    "f1_accuracy = f1_score(y_test,results,average='macro')\n",
    "f1_accuracym = f1_score(y_test,results,average='micro')\n",
    "f1_accuracyw = f1_score(y_test,results,average='weighted')\n",
    "print(\"Accuracy on test data: \" ,test_accuracy)\n",
    "print('F1 Score (macro): ', f1_accuracy)\n",
    "print('F1 Score (micro): ', f1_accuracym)\n",
    "print('F1 Score (weighted): ', f1_accuracyw)\n"
   ]
  },
  {
   "cell_type": "code",
   "execution_count": 12,
   "metadata": {},
   "outputs": [],
   "source": [
    "# Naive Bayes: TF IDF"
   ]
  },
  {
   "cell_type": "code",
   "execution_count": 13,
   "metadata": {},
   "outputs": [
    {
     "data": {
      "text/plain": [
       "{'nb__alpha': 1, 'vec__min_df': 1}"
      ]
     },
     "execution_count": 13,
     "metadata": {},
     "output_type": "execute_result"
    }
   ],
   "source": [
    "\"\"\"Model Validation\"\"\"\n",
    "steps = [('vec', TfidfVectorizer(stop_words = 'english', ngram_range = (1, 2))), ('nb', MultinomialNB())] \n",
    "pipeline = Pipeline(steps) \n",
    "parameters = {'vec__min_df':[0.01, 0.1, 1, 10, 100], 'nb__alpha':[0.01, 0.1, 1, 10, 100]}\n",
    "\n",
    "clf = GridSearchCV(pipeline, parameters, cv = 10, scoring=\"accuracy\") \n",
    "clf.fit(X_train, y_train)\n",
    "\n",
    "clf.best_params_\n"
   ]
  },
  {
   "cell_type": "code",
   "execution_count": 14,
   "metadata": {},
   "outputs": [],
   "source": [
    "\"\"\"Save the file into an sav\"\"\"\n",
    "filename = 'nb_tf.sav'\n",
    "pickle.dump(clf, open(filename, 'wb'))\n",
    "\n",
    "\"\"\"Load the model file\"\"\"\n",
    "filename = 'nb_tf.sav'\n",
    "clf = pickle.load(open(filename, 'rb'))"
   ]
  },
  {
   "cell_type": "code",
   "execution_count": 15,
   "metadata": {},
   "outputs": [
    {
     "name": "stdout",
     "output_type": "stream",
     "text": [
      "Accuracy on test data:  0.842197545295149\n",
      "F1 Score (macro):  0.842012226831661\n",
      "F1 Score (micro):  0.8421975452951491\n",
      "F1 Score (weighted):  0.8420925525820466\n"
     ]
    }
   ],
   "source": [
    "\"\"\"Results\"\"\"\n",
    "results = clf.predict(X_test)\n",
    "\n",
    "\"\"\"Test the Accuracy & the F1 Score of the Model\"\"\"\n",
    "test_accuracy = clf.score(X_test, y_test)\n",
    "probs = clf.predict_proba(X_test)[:, 1]\n",
    "f1_accuracy = f1_score(y_test,results,average='macro')\n",
    "f1_accuracym = f1_score(y_test,results,average='micro')\n",
    "f1_accuracyw = f1_score(y_test,results,average='weighted')\n",
    "print(\"Accuracy on test data: \" ,test_accuracy)\n",
    "print('F1 Score (macro): ', f1_accuracy)\n",
    "print('F1 Score (micro): ', f1_accuracym)\n",
    "print('F1 Score (weighted): ', f1_accuracyw)"
   ]
  },
  {
   "cell_type": "code",
   "execution_count": 16,
   "metadata": {},
   "outputs": [],
   "source": [
    "nb_tf_acc = test_accuracy\n",
    "nb_tf_f1 = f1_accuracyw\n",
    "nb_tf_f1m = f1_accuracym\n",
    "nb_tf_f1w = f1_accuracyw"
   ]
  },
  {
   "cell_type": "code",
   "execution_count": 17,
   "metadata": {},
   "outputs": [],
   "source": [
    "# Gradient Boosted Classifier: Count Vectorizer"
   ]
  },
  {
   "cell_type": "code",
   "execution_count": 18,
   "metadata": {},
   "outputs": [
    {
     "data": {
      "text/html": [
       "<style>#sk-container-id-1 {color: black;background-color: white;}#sk-container-id-1 pre{padding: 0;}#sk-container-id-1 div.sk-toggleable {background-color: white;}#sk-container-id-1 label.sk-toggleable__label {cursor: pointer;display: block;width: 100%;margin-bottom: 0;padding: 0.3em;box-sizing: border-box;text-align: center;}#sk-container-id-1 label.sk-toggleable__label-arrow:before {content: \"▸\";float: left;margin-right: 0.25em;color: #696969;}#sk-container-id-1 label.sk-toggleable__label-arrow:hover:before {color: black;}#sk-container-id-1 div.sk-estimator:hover label.sk-toggleable__label-arrow:before {color: black;}#sk-container-id-1 div.sk-toggleable__content {max-height: 0;max-width: 0;overflow: hidden;text-align: left;background-color: #f0f8ff;}#sk-container-id-1 div.sk-toggleable__content pre {margin: 0.2em;color: black;border-radius: 0.25em;background-color: #f0f8ff;}#sk-container-id-1 input.sk-toggleable__control:checked~div.sk-toggleable__content {max-height: 200px;max-width: 100%;overflow: auto;}#sk-container-id-1 input.sk-toggleable__control:checked~label.sk-toggleable__label-arrow:before {content: \"▾\";}#sk-container-id-1 div.sk-estimator input.sk-toggleable__control:checked~label.sk-toggleable__label {background-color: #d4ebff;}#sk-container-id-1 div.sk-label input.sk-toggleable__control:checked~label.sk-toggleable__label {background-color: #d4ebff;}#sk-container-id-1 input.sk-hidden--visually {border: 0;clip: rect(1px 1px 1px 1px);clip: rect(1px, 1px, 1px, 1px);height: 1px;margin: -1px;overflow: hidden;padding: 0;position: absolute;width: 1px;}#sk-container-id-1 div.sk-estimator {font-family: monospace;background-color: #f0f8ff;border: 1px dotted black;border-radius: 0.25em;box-sizing: border-box;margin-bottom: 0.5em;}#sk-container-id-1 div.sk-estimator:hover {background-color: #d4ebff;}#sk-container-id-1 div.sk-parallel-item::after {content: \"\";width: 100%;border-bottom: 1px solid gray;flex-grow: 1;}#sk-container-id-1 div.sk-label:hover label.sk-toggleable__label {background-color: #d4ebff;}#sk-container-id-1 div.sk-serial::before {content: \"\";position: absolute;border-left: 1px solid gray;box-sizing: border-box;top: 0;bottom: 0;left: 50%;z-index: 0;}#sk-container-id-1 div.sk-serial {display: flex;flex-direction: column;align-items: center;background-color: white;padding-right: 0.2em;padding-left: 0.2em;position: relative;}#sk-container-id-1 div.sk-item {position: relative;z-index: 1;}#sk-container-id-1 div.sk-parallel {display: flex;align-items: stretch;justify-content: center;background-color: white;position: relative;}#sk-container-id-1 div.sk-item::before, #sk-container-id-1 div.sk-parallel-item::before {content: \"\";position: absolute;border-left: 1px solid gray;box-sizing: border-box;top: 0;bottom: 0;left: 50%;z-index: -1;}#sk-container-id-1 div.sk-parallel-item {display: flex;flex-direction: column;z-index: 1;position: relative;background-color: white;}#sk-container-id-1 div.sk-parallel-item:first-child::after {align-self: flex-end;width: 50%;}#sk-container-id-1 div.sk-parallel-item:last-child::after {align-self: flex-start;width: 50%;}#sk-container-id-1 div.sk-parallel-item:only-child::after {width: 0;}#sk-container-id-1 div.sk-dashed-wrapped {border: 1px dashed gray;margin: 0 0.4em 0.5em 0.4em;box-sizing: border-box;padding-bottom: 0.4em;background-color: white;}#sk-container-id-1 div.sk-label label {font-family: monospace;font-weight: bold;display: inline-block;line-height: 1.2em;}#sk-container-id-1 div.sk-label-container {text-align: center;}#sk-container-id-1 div.sk-container {/* jupyter's `normalize.less` sets `[hidden] { display: none; }` but bootstrap.min.css set `[hidden] { display: none !important; }` so we also need the `!important` here to be able to override the default hidden behavior on the sphinx rendered scikit-learn.org. See: https://github.com/scikit-learn/scikit-learn/issues/21755 */display: inline-block !important;position: relative;}#sk-container-id-1 div.sk-text-repr-fallback {display: none;}</style><div id=\"sk-container-id-1\" class=\"sk-top-container\"><div class=\"sk-text-repr-fallback\"><pre>Pipeline(steps=[(&#x27;vec&#x27;,\n",
       "                 TfidfVectorizer(ngram_range=(1, 2), stop_words=&#x27;english&#x27;)),\n",
       "                (&#x27;gbc&#x27;,\n",
       "                 GradientBoostingClassifier(learning_rate=0.25,\n",
       "                                            max_features=&#x27;sqrt&#x27;,\n",
       "                                            n_estimators=500))])</pre><b>In a Jupyter environment, please rerun this cell to show the HTML representation or trust the notebook. <br />On GitHub, the HTML representation is unable to render, please try loading this page with nbviewer.org.</b></div><div class=\"sk-container\" hidden><div class=\"sk-item sk-dashed-wrapped\"><div class=\"sk-label-container\"><div class=\"sk-label sk-toggleable\"><input class=\"sk-toggleable__control sk-hidden--visually\" id=\"sk-estimator-id-1\" type=\"checkbox\" ><label for=\"sk-estimator-id-1\" class=\"sk-toggleable__label sk-toggleable__label-arrow\">Pipeline</label><div class=\"sk-toggleable__content\"><pre>Pipeline(steps=[(&#x27;vec&#x27;,\n",
       "                 TfidfVectorizer(ngram_range=(1, 2), stop_words=&#x27;english&#x27;)),\n",
       "                (&#x27;gbc&#x27;,\n",
       "                 GradientBoostingClassifier(learning_rate=0.25,\n",
       "                                            max_features=&#x27;sqrt&#x27;,\n",
       "                                            n_estimators=500))])</pre></div></div></div><div class=\"sk-serial\"><div class=\"sk-item\"><div class=\"sk-estimator sk-toggleable\"><input class=\"sk-toggleable__control sk-hidden--visually\" id=\"sk-estimator-id-2\" type=\"checkbox\" ><label for=\"sk-estimator-id-2\" class=\"sk-toggleable__label sk-toggleable__label-arrow\">TfidfVectorizer</label><div class=\"sk-toggleable__content\"><pre>TfidfVectorizer(ngram_range=(1, 2), stop_words=&#x27;english&#x27;)</pre></div></div></div><div class=\"sk-item\"><div class=\"sk-estimator sk-toggleable\"><input class=\"sk-toggleable__control sk-hidden--visually\" id=\"sk-estimator-id-3\" type=\"checkbox\" ><label for=\"sk-estimator-id-3\" class=\"sk-toggleable__label sk-toggleable__label-arrow\">GradientBoostingClassifier</label><div class=\"sk-toggleable__content\"><pre>GradientBoostingClassifier(learning_rate=0.25, max_features=&#x27;sqrt&#x27;,\n",
       "                           n_estimators=500)</pre></div></div></div></div></div></div></div>"
      ],
      "text/plain": [
       "Pipeline(steps=[('vec',\n",
       "                 TfidfVectorizer(ngram_range=(1, 2), stop_words='english')),\n",
       "                ('gbc',\n",
       "                 GradientBoostingClassifier(learning_rate=0.25,\n",
       "                                            max_features='sqrt',\n",
       "                                            n_estimators=500))])"
      ]
     },
     "execution_count": 18,
     "metadata": {},
     "output_type": "execute_result"
    }
   ],
   "source": [
    "from sklearn.feature_extraction.text import TfidfVectorizer\n",
    "from sklearn.ensemble import GradientBoostingClassifier\n",
    "\n",
    "steps = [('vec', TfidfVectorizer(stop_words = 'english', ngram_range = (1, 2))), \n",
    "         ('gbc', GradientBoostingClassifier(max_features='sqrt',n_estimators=500))] \n",
    "pipeline = Pipeline(steps) \n",
    "parameters = {'gbc__learning_rate': [0.05, 0.1, 0.15, 0.2, 0.25]}\n",
    "\n",
    "clf = GridSearchCV(pipeline, parameters, cv = 3, scoring=\"accuracy\") \n",
    "clf.fit(X_train, y_train)\n",
    "\n",
    "clf.best_params_\n",
    "\n",
    "steps = [('vec', TfidfVectorizer(stop_words = 'english', ngram_range = (1, 2))), \n",
    "         ('gbc', GradientBoostingClassifier(learning_rate = 0.25, max_features = 'sqrt', n_estimators = 500))] \n",
    "clf = Pipeline(steps) \n",
    "clf.fit(X_train, y_train)"
   ]
  },
  {
   "cell_type": "code",
   "execution_count": 19,
   "metadata": {},
   "outputs": [],
   "source": [
    "\"\"\"Save the file into an sav\"\"\"\n",
    "filename = 'gbc_cv.sav'\n",
    "pickle.dump(clf, open(filename, 'wb'))\n",
    "\n",
    "\"\"\"Load the model file\"\"\"\n",
    "filename = 'gbc_cv.sav'\n",
    "clf = pickle.load(open(filename, 'rb'))"
   ]
  },
  {
   "cell_type": "code",
   "execution_count": 20,
   "metadata": {},
   "outputs": [
    {
     "name": "stdout",
     "output_type": "stream",
     "text": [
      "Accuracy on test data:  0.8308591466978376\n",
      "F1 Score (macro):  0.8306040298065346\n",
      "F1 Score (micro):  0.8308591466978374\n",
      "F1 Score (weighted):  0.8307016197017018\n"
     ]
    }
   ],
   "source": [
    "\"\"\"Results\"\"\"\n",
    "results = clf.predict(X_test)\n",
    "\n",
    "\"\"\"Test the Accuracy & the F1 Score of the Model\"\"\"\n",
    "test_accuracy = clf.score(X_test, y_test)\n",
    "probs = clf.predict_proba(X_test)[:, 1]\n",
    "f1_accuracy = f1_score(y_test,results,average='macro')\n",
    "f1_accuracym = f1_score(y_test,results,average='micro')\n",
    "f1_accuracyw = f1_score(y_test,results,average='weighted')\n",
    "print(\"Accuracy on test data: \" ,test_accuracy)\n",
    "print('F1 Score (macro): ', f1_accuracy)\n",
    "print('F1 Score (micro): ', f1_accuracym)\n",
    "print('F1 Score (weighted): ', f1_accuracyw)"
   ]
  },
  {
   "cell_type": "code",
   "execution_count": 21,
   "metadata": {},
   "outputs": [],
   "source": [
    "gbc_cv_acc = test_accuracy\n",
    "gbc_cv_f1 = f1_accuracy\n",
    "gbc_cv_f1m = f1_accuracym\n",
    "gbc_cv_f1w = f1_accuracyw"
   ]
  },
  {
   "cell_type": "code",
   "execution_count": 22,
   "metadata": {},
   "outputs": [],
   "source": [
    "# Gradient Boosted Classifier: TF IDF"
   ]
  },
  {
   "cell_type": "code",
   "execution_count": 23,
   "metadata": {},
   "outputs": [
    {
     "data": {
      "text/html": [
       "<style>#sk-container-id-2 {color: black;background-color: white;}#sk-container-id-2 pre{padding: 0;}#sk-container-id-2 div.sk-toggleable {background-color: white;}#sk-container-id-2 label.sk-toggleable__label {cursor: pointer;display: block;width: 100%;margin-bottom: 0;padding: 0.3em;box-sizing: border-box;text-align: center;}#sk-container-id-2 label.sk-toggleable__label-arrow:before {content: \"▸\";float: left;margin-right: 0.25em;color: #696969;}#sk-container-id-2 label.sk-toggleable__label-arrow:hover:before {color: black;}#sk-container-id-2 div.sk-estimator:hover label.sk-toggleable__label-arrow:before {color: black;}#sk-container-id-2 div.sk-toggleable__content {max-height: 0;max-width: 0;overflow: hidden;text-align: left;background-color: #f0f8ff;}#sk-container-id-2 div.sk-toggleable__content pre {margin: 0.2em;color: black;border-radius: 0.25em;background-color: #f0f8ff;}#sk-container-id-2 input.sk-toggleable__control:checked~div.sk-toggleable__content {max-height: 200px;max-width: 100%;overflow: auto;}#sk-container-id-2 input.sk-toggleable__control:checked~label.sk-toggleable__label-arrow:before {content: \"▾\";}#sk-container-id-2 div.sk-estimator input.sk-toggleable__control:checked~label.sk-toggleable__label {background-color: #d4ebff;}#sk-container-id-2 div.sk-label input.sk-toggleable__control:checked~label.sk-toggleable__label {background-color: #d4ebff;}#sk-container-id-2 input.sk-hidden--visually {border: 0;clip: rect(1px 1px 1px 1px);clip: rect(1px, 1px, 1px, 1px);height: 1px;margin: -1px;overflow: hidden;padding: 0;position: absolute;width: 1px;}#sk-container-id-2 div.sk-estimator {font-family: monospace;background-color: #f0f8ff;border: 1px dotted black;border-radius: 0.25em;box-sizing: border-box;margin-bottom: 0.5em;}#sk-container-id-2 div.sk-estimator:hover {background-color: #d4ebff;}#sk-container-id-2 div.sk-parallel-item::after {content: \"\";width: 100%;border-bottom: 1px solid gray;flex-grow: 1;}#sk-container-id-2 div.sk-label:hover label.sk-toggleable__label {background-color: #d4ebff;}#sk-container-id-2 div.sk-serial::before {content: \"\";position: absolute;border-left: 1px solid gray;box-sizing: border-box;top: 0;bottom: 0;left: 50%;z-index: 0;}#sk-container-id-2 div.sk-serial {display: flex;flex-direction: column;align-items: center;background-color: white;padding-right: 0.2em;padding-left: 0.2em;position: relative;}#sk-container-id-2 div.sk-item {position: relative;z-index: 1;}#sk-container-id-2 div.sk-parallel {display: flex;align-items: stretch;justify-content: center;background-color: white;position: relative;}#sk-container-id-2 div.sk-item::before, #sk-container-id-2 div.sk-parallel-item::before {content: \"\";position: absolute;border-left: 1px solid gray;box-sizing: border-box;top: 0;bottom: 0;left: 50%;z-index: -1;}#sk-container-id-2 div.sk-parallel-item {display: flex;flex-direction: column;z-index: 1;position: relative;background-color: white;}#sk-container-id-2 div.sk-parallel-item:first-child::after {align-self: flex-end;width: 50%;}#sk-container-id-2 div.sk-parallel-item:last-child::after {align-self: flex-start;width: 50%;}#sk-container-id-2 div.sk-parallel-item:only-child::after {width: 0;}#sk-container-id-2 div.sk-dashed-wrapped {border: 1px dashed gray;margin: 0 0.4em 0.5em 0.4em;box-sizing: border-box;padding-bottom: 0.4em;background-color: white;}#sk-container-id-2 div.sk-label label {font-family: monospace;font-weight: bold;display: inline-block;line-height: 1.2em;}#sk-container-id-2 div.sk-label-container {text-align: center;}#sk-container-id-2 div.sk-container {/* jupyter's `normalize.less` sets `[hidden] { display: none; }` but bootstrap.min.css set `[hidden] { display: none !important; }` so we also need the `!important` here to be able to override the default hidden behavior on the sphinx rendered scikit-learn.org. See: https://github.com/scikit-learn/scikit-learn/issues/21755 */display: inline-block !important;position: relative;}#sk-container-id-2 div.sk-text-repr-fallback {display: none;}</style><div id=\"sk-container-id-2\" class=\"sk-top-container\"><div class=\"sk-text-repr-fallback\"><pre>Pipeline(steps=[(&#x27;vec&#x27;,\n",
       "                 TfidfVectorizer(ngram_range=(1, 2), stop_words=&#x27;english&#x27;)),\n",
       "                (&#x27;gbc&#x27;,\n",
       "                 GradientBoostingClassifier(learning_rate=0.25,\n",
       "                                            max_features=&#x27;sqrt&#x27;,\n",
       "                                            n_estimators=500))])</pre><b>In a Jupyter environment, please rerun this cell to show the HTML representation or trust the notebook. <br />On GitHub, the HTML representation is unable to render, please try loading this page with nbviewer.org.</b></div><div class=\"sk-container\" hidden><div class=\"sk-item sk-dashed-wrapped\"><div class=\"sk-label-container\"><div class=\"sk-label sk-toggleable\"><input class=\"sk-toggleable__control sk-hidden--visually\" id=\"sk-estimator-id-4\" type=\"checkbox\" ><label for=\"sk-estimator-id-4\" class=\"sk-toggleable__label sk-toggleable__label-arrow\">Pipeline</label><div class=\"sk-toggleable__content\"><pre>Pipeline(steps=[(&#x27;vec&#x27;,\n",
       "                 TfidfVectorizer(ngram_range=(1, 2), stop_words=&#x27;english&#x27;)),\n",
       "                (&#x27;gbc&#x27;,\n",
       "                 GradientBoostingClassifier(learning_rate=0.25,\n",
       "                                            max_features=&#x27;sqrt&#x27;,\n",
       "                                            n_estimators=500))])</pre></div></div></div><div class=\"sk-serial\"><div class=\"sk-item\"><div class=\"sk-estimator sk-toggleable\"><input class=\"sk-toggleable__control sk-hidden--visually\" id=\"sk-estimator-id-5\" type=\"checkbox\" ><label for=\"sk-estimator-id-5\" class=\"sk-toggleable__label sk-toggleable__label-arrow\">TfidfVectorizer</label><div class=\"sk-toggleable__content\"><pre>TfidfVectorizer(ngram_range=(1, 2), stop_words=&#x27;english&#x27;)</pre></div></div></div><div class=\"sk-item\"><div class=\"sk-estimator sk-toggleable\"><input class=\"sk-toggleable__control sk-hidden--visually\" id=\"sk-estimator-id-6\" type=\"checkbox\" ><label for=\"sk-estimator-id-6\" class=\"sk-toggleable__label sk-toggleable__label-arrow\">GradientBoostingClassifier</label><div class=\"sk-toggleable__content\"><pre>GradientBoostingClassifier(learning_rate=0.25, max_features=&#x27;sqrt&#x27;,\n",
       "                           n_estimators=500)</pre></div></div></div></div></div></div></div>"
      ],
      "text/plain": [
       "Pipeline(steps=[('vec',\n",
       "                 TfidfVectorizer(ngram_range=(1, 2), stop_words='english')),\n",
       "                ('gbc',\n",
       "                 GradientBoostingClassifier(learning_rate=0.25,\n",
       "                                            max_features='sqrt',\n",
       "                                            n_estimators=500))])"
      ]
     },
     "execution_count": 23,
     "metadata": {},
     "output_type": "execute_result"
    }
   ],
   "source": [
    "\"\"\"Model Validation\"\"\"\n",
    "steps = [('vec', TfidfVectorizer(stop_words = 'english', ngram_range = (1, 2))), \n",
    "         ('gbc', GradientBoostingClassifier(max_features='sqrt',n_estimators=500))] \n",
    "pipeline = Pipeline(steps) \n",
    "parameters = {'gbc__learning_rate': [0.05, 0.1, 0.15, 0.2, 0.25]}\n",
    "\n",
    "clf = GridSearchCV(pipeline, parameters, cv = 3, scoring=\"accuracy\") \n",
    "clf.fit(X_train, y_train)\n",
    "\n",
    "clf.best_params_\n",
    "\n",
    "steps = [('vec', TfidfVectorizer(stop_words = 'english', ngram_range = (1, 2))), \n",
    "         ('gbc', GradientBoostingClassifier(learning_rate = 0.25, max_features = 'sqrt', n_estimators = 500))] \n",
    "clf = Pipeline(steps) \n",
    "clf.fit(X_train, y_train)"
   ]
  },
  {
   "cell_type": "code",
   "execution_count": 24,
   "metadata": {},
   "outputs": [],
   "source": [
    "\"\"\"Save the file into an sav\"\"\"\n",
    "filename = 'gbc_tf.sav'\n",
    "pickle.dump(clf, open(filename, 'wb'))\n",
    "\n",
    "\"\"\"Load the model file\"\"\"\n",
    "filename = 'gbc_tf.sav'\n",
    "clf = pickle.load(open(filename, 'rb'))"
   ]
  },
  {
   "cell_type": "code",
   "execution_count": 25,
   "metadata": {},
   "outputs": [
    {
     "name": "stdout",
     "output_type": "stream",
     "text": [
      "Accuracy on test data:  0.8213909994155465\n",
      "F1 Score (macro):  0.8210898311340626\n",
      "F1 Score (micro):  0.8213909994155465\n",
      "F1 Score (weighted):  0.8211988008541438\n"
     ]
    }
   ],
   "source": [
    "\"\"\"Results\"\"\"\n",
    "results = clf.predict(X_test)\n",
    "\n",
    "\"\"\"Test the Accuracy & the F1 Score of the Model\"\"\"\n",
    "test_accuracy = clf.score(X_test, y_test)\n",
    "probs = clf.predict_proba(X_test)[:, 1]\n",
    "f1_accuracy = f1_score(y_test,results,average='macro')\n",
    "f1_accuracym = f1_score(y_test,results,average='micro')\n",
    "f1_accuracyw = f1_score(y_test,results,average='weighted')\n",
    "print(\"Accuracy on test data: \" ,test_accuracy)\n",
    "print('F1 Score (macro): ', f1_accuracy)\n",
    "print('F1 Score (micro): ', f1_accuracym)\n",
    "print('F1 Score (weighted): ', f1_accuracyw)\n"
   ]
  },
  {
   "cell_type": "code",
   "execution_count": 26,
   "metadata": {},
   "outputs": [],
   "source": [
    "gbc_tf_acc = test_accuracy\n",
    "gbc_tf_f1 = f1_accuracy\n",
    "gbc_tf_f1m = f1_accuracym\n",
    "gbc_tf_f1w = f1_accuracyw"
   ]
  },
  {
   "cell_type": "code",
   "execution_count": 27,
   "metadata": {},
   "outputs": [],
   "source": [
    "# Common Results"
   ]
  },
  {
   "cell_type": "code",
   "execution_count": 28,
   "metadata": {},
   "outputs": [
    {
     "data": {
      "text/html": [
       "<div>\n",
       "<style scoped>\n",
       "    .dataframe tbody tr th:only-of-type {\n",
       "        vertical-align: middle;\n",
       "    }\n",
       "\n",
       "    .dataframe tbody tr th {\n",
       "        vertical-align: top;\n",
       "    }\n",
       "\n",
       "    .dataframe thead th {\n",
       "        text-align: right;\n",
       "    }\n",
       "</style>\n",
       "<table border=\"1\" class=\"dataframe\">\n",
       "  <thead>\n",
       "    <tr style=\"text-align: right;\">\n",
       "      <th></th>\n",
       "      <th>Model</th>\n",
       "      <th>Accuracy</th>\n",
       "      <th>F1_Macro</th>\n",
       "      <th>F1_Micro</th>\n",
       "      <th>F1_Weighted</th>\n",
       "    </tr>\n",
       "  </thead>\n",
       "  <tbody>\n",
       "    <tr>\n",
       "      <th>0</th>\n",
       "      <td>NB_CV</td>\n",
       "      <td>0.842</td>\n",
       "      <td>0.842</td>\n",
       "      <td>0.842</td>\n",
       "      <td>0.842</td>\n",
       "    </tr>\n",
       "    <tr>\n",
       "      <th>1</th>\n",
       "      <td>NB_TF</td>\n",
       "      <td>0.842</td>\n",
       "      <td>0.842</td>\n",
       "      <td>0.842</td>\n",
       "      <td>0.842</td>\n",
       "    </tr>\n",
       "    <tr>\n",
       "      <th>2</th>\n",
       "      <td>GBC_CV</td>\n",
       "      <td>0.831</td>\n",
       "      <td>0.831</td>\n",
       "      <td>0.831</td>\n",
       "      <td>0.831</td>\n",
       "    </tr>\n",
       "    <tr>\n",
       "      <th>3</th>\n",
       "      <td>GBC_TF</td>\n",
       "      <td>0.821</td>\n",
       "      <td>0.821</td>\n",
       "      <td>0.821</td>\n",
       "      <td>0.821</td>\n",
       "    </tr>\n",
       "  </tbody>\n",
       "</table>\n",
       "</div>"
      ],
      "text/plain": [
       "    Model  Accuracy  F1_Macro  F1_Micro  F1_Weighted\n",
       "0   NB_CV     0.842     0.842     0.842        0.842\n",
       "1   NB_TF     0.842     0.842     0.842        0.842\n",
       "2  GBC_CV     0.831     0.831     0.831        0.831\n",
       "3  GBC_TF     0.821     0.821     0.821        0.821"
      ]
     },
     "execution_count": 28,
     "metadata": {},
     "output_type": "execute_result"
    }
   ],
   "source": [
    "\"\"\"Aggregate Results\"\"\"\n",
    "\n",
    "result2 = pd.DataFrame({'Model':['NB_CV', 'NB_TF', 'GBC_CV', 'GBC_TF'],\n",
    "             'Accuracy':[nb_tf_acc,nb_tf_acc, gbc_cv_acc, gbc_tf_acc],\n",
    "             'F1_Macro':[nb_tf_f1, nb_tf_f1, gbc_cv_f1, gbc_tf_f1],\n",
    "             'F1_Micro':[nb_tf_f1m, nb_tf_f1m, gbc_cv_f1m, gbc_tf_f1m],\n",
    "             'F1_Weighted':[nb_tf_f1w, nb_tf_f1w, gbc_cv_f1w, gbc_tf_f1w]})\n",
    "result2 = result2.round(3)\n",
    "result2"
   ]
  },
  {
   "cell_type": "code",
   "execution_count": 29,
   "metadata": {},
   "outputs": [],
   "source": [
    "\"\"\"Confusion Matrix\"\"\"\n",
    "cm = confusion_matrix(y_test, clf.predict(X_test), labels=None, sample_weight=None)\n",
    "cm\n",
    "\n",
    "cm_yelp_data =  pd.DataFrame(cm, index= [i for i in ['Negative','Positive']],\n",
    "                     columns= [i for i in ['Negative','Positive']])"
   ]
  },
  {
   "cell_type": "code",
   "execution_count": 30,
   "metadata": {},
   "outputs": [
    {
     "data": {
      "text/plain": [
       "<AxesSubplot: >"
      ]
     },
     "execution_count": 30,
     "metadata": {},
     "output_type": "execute_result"
    },
    {
     "data": {
      "image/png": "[encoded data removed]",
      "text/plain": [
       "<Figure size 640x480 with 2 Axes>"
      ]
     },
     "metadata": {},
     "output_type": "display_data"
    }
   ],
   "source": [
    "\"\"\"Heatmap\"\"\"\n",
    "sns.heatmap(cm_yelp_data, annot=True,cmap='Blues',fmt='g')"
   ]
  }
 ],
 "metadata": {
  "kernelspec": {
   "display_name": "Python 3",
   "language": "python",
   "name": "python3"
  },
  "language_info": {
   "codemirror_mode": {
    "name": "ipython",
    "version": 3
   },
   "file_extension": ".py",
   "mimetype": "text/x-python",
   "name": "python",
   "nbconvert_exporter": "python",
   "pygments_lexer": "ipython3",
   "version": "3.10.7"
  },
  "orig_nbformat": 4,
  "vscode": {
   "interpreter": {
    "hash": "aee8b7b246df8f9039afb4144a1f6fd8d2ca17a180786b69acc140d282b71a49"
   }
  }
 },
 "nbformat": 4,
 "nbformat_minor": 2
}
