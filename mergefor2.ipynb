{
 "cells": [
  {
   "cell_type": "code",
   "execution_count": 1,
   "metadata": {},
   "outputs": [],
   "source": [
    "#importing pandas\n",
    "import pandas as pd"
   ]
  },
  {
   "cell_type": "code",
   "execution_count": 2,
   "metadata": {},
   "outputs": [],
   "source": [
    "df = pd.concat(\n",
    "    map(pd.read_csv, ['yelp_all_reviews_1-10.csv', 'yelp_all_reviews_11-24.csv']), ignore_index=True)"
   ]
  },
  {
   "cell_type": "code",
   "execution_count": 3,
   "metadata": {},
   "outputs": [
    {
     "name": "stdout",
     "output_type": "stream",
     "text": [
      "               restaurant_name  number  \\\n",
      "0      T-Loc's Sonora Hot Dogs       1   \n",
      "1      T-Loc's Sonora Hot Dogs       2   \n",
      "2      T-Loc's Sonora Hot Dogs       3   \n",
      "3      T-Loc's Sonora Hot Dogs       4   \n",
      "4      T-Loc's Sonora Hot Dogs       5   \n",
      "...                        ...     ...   \n",
      "11896                 Hula Hut     496   \n",
      "11897                 Hula Hut     497   \n",
      "11898                 Hula Hut     498   \n",
      "11899                 Hula Hut     499   \n",
      "11900                 Hula Hut     500   \n",
      "\n",
      "                                                  review  \n",
      "0      My favorite hot dogs in Austin.   A pleasant  ...  \n",
      "1      Delicious hot dogs and burritos. The highlight...  \n",
      "2      Well  first of all the owners are great   Zulm...  \n",
      "3      Was in the mood for a hot dog and got to try m...  \n",
      "4      Why 5 stars  Because when hot dogs are done we...  \n",
      "...                                                  ...  \n",
      "11896  It was pretty mehh.. to be fair though  we did...  \n",
      "11897  I give 1 Star for the scenery and the patio. O...  \n",
      "11898  Great location and view. The bar area waiter w...  \n",
      "11899  How is this place getting good reviews    I ha...  \n",
      "11900  my lord this shit was unequivocally fuckin bus...  \n",
      "\n",
      "[11901 rows x 3 columns]\n"
     ]
    }
   ],
   "source": [
    "print(df)"
   ]
  }
 ],
 "metadata": {
  "kernelspec": {
   "display_name": "Python 3.10.7 64-bit",
   "language": "python",
   "name": "python3"
  },
  "language_info": {
   "codemirror_mode": {
    "name": "ipython",
    "version": 3
   },
   "file_extension": ".py",
   "mimetype": "text/x-python",
   "name": "python",
   "nbconvert_exporter": "python",
   "pygments_lexer": "ipython3",
   "version": "3.10.7"
  },
  "orig_nbformat": 4,
  "vscode": {
   "interpreter": {
    "hash": "aee8b7b246df8f9039afb4144a1f6fd8d2ca17a180786b69acc140d282b71a49"
   }
  }
 },
 "nbformat": 4,
 "nbformat_minor": 2
}
